{
 "cells": [
  {
   "cell_type": "markdown",
   "metadata": {},
   "source": [
    "## Intro into Machine Learning!\n"
   ]
  },
  {
   "cell_type": "markdown",
   "metadata": {},
   "source": [
    "##  Set-up  \n",
    "\n",
    "\n",
    "### 0) Installing Anaconda\n",
    "\n",
    "If you haven't already, follow the instructions [here](https://github.com/julialintern/Intro_to_Deep_Learning/anaconda_install/) to **install an updated version of Anaconda** (with Python 3). \n",
    "\n",
    "Next, check that `conda` is installed by running `conda -V` from your terminal. You should\n",
    "receive a response indicating your current `conda` version."
   ]
  },
  {
   "cell_type": "markdown",
   "metadata": {},
   "source": [
    "### 1)  Install Environment: \n",
    "\n",
    "\n",
    "```bash\n",
    "conda create -n ml python=3  \n",
    "conda activate ml\n",
    "conda install anaconda\n",
    "```\n",
    "\n",
    "\n",
    "#### Add 'ml' kernel to jupyter\n",
    "```bash\n",
    "conda install ipykernal\n",
    "python -m ipykernel install --user --name ml\n",
    "```\n",
    "\n",
    "```bash\n",
    "$ conda activate ml\n",
    "```\n",
    "You can then start Jupyter by running\n",
    "\n",
    "```bash\n",
    "$ jupyter notebook\n",
    "```\n",
    "\n",
    "When starting a new notebook in Jupyter, you should select \"Kernel ->\n",
    "Change Kernel -> \"ml\" before running."
   ]
  },
  {
   "cell_type": "markdown",
   "metadata": {},
   "source": [
    "\n",
    "\n"
   ]
  },
  {
   "cell_type": "markdown",
   "metadata": {
    "collapsed": true
   },
   "source": [
    "### 2) Git Clone:\n",
    "- (In case you haven't yet), please git clone the workshop repo : https://github.com/julialintern/intro_to_machine_learning"
   ]
  },
  {
   "cell_type": "markdown",
   "metadata": {
    "collapsed": true
   },
   "source": [
    "### 3) Testing:\n",
    "#### Launch jupyter notebook\n"
   ]
  },
  {
   "cell_type": "code",
   "execution_count": 1,
   "metadata": {},
   "outputs": [],
   "source": [
    "# once in your notebook, test:\n",
    "from sklearn.linear_model import LinearRegression"
   ]
  },
  {
   "cell_type": "code",
   "execution_count": null,
   "metadata": {},
   "outputs": [],
   "source": []
  }
 ],
 "metadata": {
  "kernelspec": {
   "display_name": "ml",
   "language": "python",
   "name": "ml"
  },
  "language_info": {
   "codemirror_mode": {
    "name": "ipython",
    "version": 3
   },
   "file_extension": ".py",
   "mimetype": "text/x-python",
   "name": "python",
   "nbconvert_exporter": "python",
   "pygments_lexer": "ipython3",
   "version": "3.10.11"
  }
 },
 "nbformat": 4,
 "nbformat_minor": 2
}
